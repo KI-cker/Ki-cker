{
 "cells": [
  {
   "cell_type": "markdown",
   "metadata": {},
   "source": [
    "# Connecting to drive control\n",
    "\n",
    "Controlling the players is done through the `MotorController` module. The following demonstrates how this module is used in the artifical intelligence. The vector used as argument of `motor.control` corrsponds to the output of the neural net.\n",
    "\n",
    "In the background OPCUA is used to speak to the physical control device."
   ]
  },
  {
   "cell_type": "code",
   "execution_count": 2,
   "metadata": {},
   "outputs": [],
   "source": [
    "from kicker.opcua_motor import MotorController\n",
    "\n",
    "motor = MotorController()\n",
    "motor.connect()"
   ]
  },
  {
   "cell_type": "markdown",
   "metadata": {},
   "source": [
    "`motor` listens on the default address. Alternatively, one can specify one via `MotorController(address='opc.tcp://0.0.0.0:0000')`."
   ]
  },
  {
   "cell_type": "code",
   "execution_count": 3,
   "metadata": {},
   "outputs": [
    {
     "data": {
      "text/plain": [
       "'opc.tcp://192.168.42.20:4840'"
      ]
     },
     "execution_count": 3,
     "metadata": {},
     "output_type": "execute_result"
    }
   ],
   "source": [
    "motor.address"
   ]
  },
  {
   "cell_type": "markdown",
   "metadata": {},
   "source": [
    "As the python `opcua` module establishes a permanent TCP connect, one needs to disonnect, once one is done with it:"
   ]
  },
  {
   "cell_type": "code",
   "execution_count": null,
   "metadata": {},
   "outputs": [],
   "source": [
    "motor.disconnect()"
   ]
  },
  {
   "cell_type": "markdown",
   "metadata": {},
   "source": [
    "# Controlling the players\n",
    "The following commands illustrate how the AI controls the players. Basically, the control happens through `motor.control(outputs)`. Here `outputs` is given by evalutating a neural net on images of the field obtained from the webcam.\n",
    "\n",
    "The vector `inputs` has 8 elements. Each can take a value from `-1, 0, 1`, where `0` corresponds to no movement, and `1` and `-1` correspond to forward/backward movement. The followign illustrates the commands."
   ]
  },
  {
   "cell_type": "code",
   "execution_count": 6,
   "metadata": {},
   "outputs": [],
   "source": [
    "# Rotate the goal keeper forward\n",
    "motor.control([1, 0, 0, 0, 0, 0, 0, 0])"
   ]
  },
  {
   "cell_type": "code",
   "execution_count": 5,
   "metadata": {},
   "outputs": [],
   "source": [
    "# Rotate the goal keeper backward\n",
    "motor.control([-1, 0, 0, 0, 0, 0, 0, 0])"
   ]
  },
  {
   "cell_type": "code",
   "execution_count": null,
   "metadata": {},
   "outputs": [],
   "source": [
    "# Move the goal keeper right\n",
    "motor.control([0, 1, 0, 0, 0, 0, 0, 0])"
   ]
  },
  {
   "cell_type": "code",
   "execution_count": null,
   "metadata": {},
   "outputs": [],
   "source": [
    "# Move the goal keeper left\n",
    "motor.control([0, -1, 0, 0, 0, 0, 0, 0])"
   ]
  },
  {
   "cell_type": "code",
   "execution_count": null,
   "metadata": {},
   "outputs": [],
   "source": [
    "# Move the defense forward\n",
    "motor.control([0, 0, 1, 0, 0, 0, 0, 0])"
   ]
  },
  {
   "cell_type": "code",
   "execution_count": null,
   "metadata": {},
   "outputs": [],
   "source": [
    "# Move the defense right\n",
    "motor.control([0, 0, 0, 1, 0, 0, 0, 0])"
   ]
  },
  {
   "cell_type": "code",
   "execution_count": null,
   "metadata": {},
   "outputs": [],
   "source": [
    "# Move the center forward\n",
    "motor.control([0, 0, 0, 0, 1, 0, 0, 0])"
   ]
  },
  {
   "cell_type": "code",
   "execution_count": null,
   "metadata": {},
   "outputs": [],
   "source": [
    "# Move the center right\n",
    "motor.control([0, 0, 0, 0, 0, 1, 0, 0])"
   ]
  },
  {
   "cell_type": "code",
   "execution_count": null,
   "metadata": {},
   "outputs": [],
   "source": [
    "# Move the offense forward\n",
    "motor.control([0, 0, 0, 0, 0, 0, 1, 0])"
   ]
  },
  {
   "cell_type": "code",
   "execution_count": null,
   "metadata": {},
   "outputs": [],
   "source": [
    "# Move the offense right\n",
    "motor.control([0, 0, 0, 0, 0, 0, 0, 1])"
   ]
  },
  {
   "cell_type": "markdown",
   "metadata": {},
   "source": [
    "# Variables\n",
    "\n",
    "The OPCUA variables are contained in `opcua_constants` and are as follows:"
   ]
  },
  {
   "cell_type": "code",
   "execution_count": 8,
   "metadata": {},
   "outputs": [
    {
     "name": "stdout",
     "output_type": "stream",
     "text": [
      "['Application.GVLpython.bNegative_jog_Rot_Tor', 2]\n",
      "['Application.GVLpython.bPositive_jog_Rot_Tor', 2]\n",
      "['Application.GVLpython.rActualPosition_Rot_Tor', 2]\n",
      "['Application.GVLpython.rActualVelocity_Rot_Tor', 2]\n",
      "['Application.GVLpython.rLimitVelRot', 2]\n",
      "['Application.GVLpython.rLimitVelRot', 2]\n",
      "['Application.GVLpython.rLimitAccRot', 2]\n",
      "['Application.GVLpython.bNegative_jog_Trans_Tor', 2]\n",
      "['Application.GVLpython.bPositive_jog_Trans_Tor', 2]\n",
      "['Application.GVLpython.rActualPosition_Trans_Tor', 2]\n",
      "['Application.GVLpython.rActualVelocity_Trans_Tor', 2]\n",
      "['Application.GVLpython.rLimitVelTrans', 2]\n",
      "['Application.GVLpython.rLimitVelTrans', 2]\n",
      "['Application.GVLpython.rLimitAccTrans', 2]\n",
      "['Application.GVLpython.bNegative_jog_Rot_Verteidigung', 2]\n",
      "['Application.GVLpython.bPositive_jog_Rot_Verteidigung', 2]\n",
      "['Application.GVLpython.rActualPosition_Rot_Verteidigung', 2]\n",
      "['Application.GVLpython.rActualVelocity_Rot_Verteidigung', 2]\n",
      "['Application.GVLpython.rLimitVelRot', 2]\n",
      "['Application.GVLpython.rLimitVelRot', 2]\n",
      "['Application.GVLpython.rLimitAccRot', 2]\n",
      "['Application.GVLpython.bNegative_jog_Trans_Verteidigung', 2]\n",
      "['Application.GVLpython.bPositive_jog_Trans_Verteidigung', 2]\n",
      "['Application.GVLpython.rActualPosition_Trans_Verteidigung', 2]\n",
      "['Application.GVLpython.rActualVelocity_Trans_Verteidigung', 2]\n",
      "['Application.GVLpython.rLimitVelTrans', 2]\n",
      "['Application.GVLpython.rLimitVelTrans', 2]\n",
      "['Application.GVLpython.rLimitAccTrans', 2]\n",
      "['Application.GVLpython.bNegative_jog_Rot_Mittelfeld', 2]\n",
      "['Application.GVLpython.bPositive_jog_Rot_Mittelfeld', 2]\n",
      "['Application.GVLpython.rActualPosition_Rot_Mittelfeld', 2]\n",
      "['Application.GVLpython.rActualVelocity_Rot_Mittelfeld', 2]\n",
      "['Application.GVLpython.rLimitVelRot', 2]\n",
      "['Application.GVLpython.rLimitVelRot', 2]\n",
      "['Application.GVLpython.rLimitAccRot', 2]\n",
      "['Application.GVLpython.bNegative_jog_Trans_Mittelfeld', 2]\n",
      "['Application.GVLpython.bPositive_jog_Trans_Mittelfeld', 2]\n",
      "['Application.GVLpython.rActualPosition_Trans_Mittelfeld', 2]\n",
      "['Application.GVLpython.rActualVelocity_Trans_Mittelfeld', 2]\n",
      "['Application.GVLpython.rLimitVelTrans', 2]\n",
      "['Application.GVLpython.rLimitVelTrans', 2]\n",
      "['Application.GVLpython.rLimitAccTrans', 2]\n",
      "['Application.GVLpython.bNegative_jog_Rot_Sturm', 2]\n",
      "['Application.GVLpython.bPositive_jog_Rot_Sturm', 2]\n",
      "['Application.GVLpython.rActualPosition_Rot_Sturm', 2]\n",
      "['Application.GVLpython.rActualVelocity_Rot_Sturm', 2]\n",
      "['Application.GVLpython.rLimitVelRot', 2]\n",
      "['Application.GVLpython.rLimitVelRot', 2]\n",
      "['Application.GVLpython.rLimitAccRot', 2]\n",
      "['Application.GVLpython.bNegative_jog_Trans_Sturm', 2]\n",
      "['Application.GVLpython.bPositive_jog_Trans_Sturm', 2]\n",
      "['Application.GVLpython.rActualPosition_Trans_Sturm', 2]\n",
      "['Application.GVLpython.rActualVelocity_Trans_Sturm', 2]\n",
      "['Application.GVLpython.rLimitVelTrans', 2]\n",
      "['Application.GVLpython.rLimitVelTrans', 2]\n",
      "['Application.GVLpython.rLimitAccTrans', 2]\n"
     ]
    }
   ],
   "source": [
    "from kicker.opcua.opcua_constants import Axis\n",
    "for axis in Axis:\n",
    "    for rotation_or_translation in axis:\n",
    "        for variable in rotation_or_translation:\n",
    "            print(variable)"
   ]
  }
 ],
 "metadata": {
  "kernelspec": {
   "display_name": "Python 3",
   "language": "python",
   "name": "python3"
  },
  "language_info": {
   "codemirror_mode": {
    "name": "ipython",
    "version": 3
   },
   "file_extension": ".py",
   "mimetype": "text/x-python",
   "name": "python",
   "nbconvert_exporter": "python",
   "pygments_lexer": "ipython3",
   "version": "3.5.2"
  }
 },
 "nbformat": 4,
 "nbformat_minor": 2
}
